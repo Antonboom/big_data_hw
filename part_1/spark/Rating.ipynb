{
 "cells": [
  {
   "cell_type": "markdown",
   "metadata": {},
   "source": [
    "## Задача 1. Средний рейтинг\n",
    "```\n",
    "Реализуйте подсчет среднего рейтинга продуктов. Результат сохранить в HDFS в файле \"avg_rating.csv\".\n",
    "Формат каждой записи: ProdId,Rating\n",
    "```"
   ]
  },
  {
   "cell_type": "raw",
   "metadata": {},
   "source": [
    "hdfs dfs -rm -r -f -skipTrash /user/cloudera/hw_part_1/spark/task_1\n",
    "hdfs dfs -mkdir -p /user/cloudera/hw_part_1/spark/task_1/data\n",
    "\n",
    "hdfs dfs -copyFromLocal /home/cloudera/Desktop/data_samples/samples_100.json \\\n",
    "                        /user/cloudera/hw_part_1/spark/task_1/data/samples_100.json\n",
    "\n",
    "# hdfs dfs -copyFromLocal /home/cloudera/Desktop/data_samples/Electronics.json \\\n",
    "#                         /user/cloudera/hw_part_1/spark/task_1/data/Electronics.json\n",
    "\n",
    "hdfs dfs -ls -R /user/cloudera/hw_part_1/spark/task_1/"
   ]
  },
  {
   "cell_type": "code",
   "execution_count": 2,
   "metadata": {},
   "outputs": [],
   "source": [
    "rdd_products = sc.textFile('/user/cloudera/hw_part_1/spark/task_1/data/samples_100.json')\n",
    "# rdd_products = sc.textFile('/user/cloudera/hw_part_1/spark/task_1/data/Electronics.json')"
   ]
  },
  {
   "cell_type": "code",
   "execution_count": 5,
   "metadata": {},
   "outputs": [
    {
     "data": {
      "text/plain": [
       "[('0528881469', 5.0),\n",
       " ('0528881469', 1.0),\n",
       " ('0528881469', 3.0),\n",
       " ('0528881469', 2.0),\n",
       " ('0528881469', 1.0),\n",
       " ('0594451647', 5.0),\n",
       " ('0594451647', 2.0),\n",
       " ('0594451647', 5.0),\n",
       " ('0594451647', 4.0),\n",
       " ('0594451647', 5.0)]"
      ]
     },
     "execution_count": 5,
     "metadata": {},
     "output_type": "execute_result"
    }
   ],
   "source": [
    "import json\n",
    "\n",
    "def get_product_rating(product_json):\n",
    "    product = json.loads(product_json)\n",
    "    return (product.get('asin'), product.get('overall'))\n",
    "\n",
    "rdd_product_rating = rdd_products.map(lambda product_json: get_product_rating(product_json))\n",
    "rdd_product_rating.take(10)"
   ]
  },
  {
   "cell_type": "code",
   "execution_count": 15,
   "metadata": {},
   "outputs": [
    {
     "name": "stdout",
     "output_type": "stream",
     "text": [
      "[('0972683275', 4.390243902439025), ('0528881469', 2.4), ('0594451647', 4.2), ('0594481813', 4.0)]\n",
      "['0972683275,4.390243902439025', '0528881469,2.4', '0594451647,4.2', '0594481813,4.0']\n"
     ]
    }
   ],
   "source": [
    "rdd_product_avg_rating = (\n",
    "    rdd_product_rating\n",
    "        .aggregateByKey(\n",
    "                (0, 0),\n",
    "                lambda sum_count, rating: (sum_count[0] + rating, sum_count[1] + 1),\n",
    "                lambda sum_count_x, sum_count_y: (sum_count_x[0] + sum_count_y[0],\n",
    "                                                  sum_count_x[1] + sum_count_y[1])\n",
    "            )\n",
    "        .mapValues(lambda sum_count: sum_count[0] / sum_count[1])\n",
    ")\n",
    "print(rdd_product_avg_rating.collect())\n",
    "\n",
    "def to_csv_line(data):\n",
    "    delimiter = ','\n",
    "    fields = []\n",
    "    for item in data:\n",
    "        field = str(item)\n",
    "        if delimiter in field:\n",
    "            field = '\"{0}\"'.format(field)\n",
    "        fields.append(field)\n",
    "    return delimiter.join(fields)\n",
    "\n",
    "print(rdd_product_avg_rating.map(to_csv_line).collect())"
   ]
  },
  {
   "cell_type": "markdown",
   "metadata": {},
   "source": [
    "```python\n",
    "# product_avg_rating.py\n",
    "import json\n",
    "import sys\n",
    "from pyspark import SparkContext, SparkConf\n",
    "\n",
    "conf = SparkConf().setAppName('ProductAvgRating')\n",
    "sc = SparkContext(conf=conf)\n",
    "\n",
    "rdd_products = sc.textFile(sys.argv[1])\n",
    "\n",
    "def get_product_rating(product_json):\n",
    "    product = json.loads(product_json)\n",
    "    return (product.get('asin'), product.get('overall'))\n",
    "\n",
    "rdd_product_rating = rdd_products.map(lambda product_json: get_product_rating(product_json))\n",
    "rdd_product_avg_rating = (\n",
    "    rdd_product_rating\n",
    "        .aggregateByKey(\n",
    "                (0, 0),\n",
    "                lambda sum_count, rating: (sum_count[0] + rating, sum_count[1] + 1),\n",
    "                lambda sum_count_x, sum_count_y: (sum_count_x[0] + sum_count_y[0],\n",
    "                                                  sum_count_x[1] + sum_count_y[1])\n",
    "            )\n",
    "        .mapValues(lambda sum_count: sum_count[0] / sum_count[1])\n",
    ")\n",
    "\n",
    "def to_csv_line(data):\n",
    "    delimiter = ','\n",
    "    fields = []\n",
    "    for item in data:\n",
    "        field = str(item)\n",
    "        if delimiter in field:\n",
    "            field = '\"{0}\"'.format(field)\n",
    "        fields.append(field)\n",
    "    return delimiter.join(fields)\n",
    "\n",
    "rdd_product_avg_rating.map(to_csv_line).saveAsTextFile(sys.argv[2])\n",
    "```"
   ]
  },
  {
   "cell_type": "raw",
   "metadata": {},
   "source": [
    "hdfs dfs -rm -r -f -skipTrash /user/cloudera/hw_part_1/spark/task_1/output\n",
    "\n",
    "spark2-submit --master yarn product_avg_rating.py \\\n",
    "    hdfs:///user/cloudera/hw_part_1/spark/task_1/data/samples_100.json \\\n",
    "    hdfs:///user/cloudera/hw_part_1/spark/task_1/output\n",
    "\n",
    "#spark2-submit --master yarn product_avg_rating.py \\\n",
    "#    hdfs:///user/cloudera/hw_part_1/spark/task_1/data/Electronics.json \\\n",
    "#    hdfs:///user/cloudera/hw_part_1/spark/task_1/output\n",
    "\n",
    "hdfs dfs -ls -R /user/cloudera/hw_part_1/spark/task_1/output\n",
    "\n",
    "hadoop fs -getmerge \\\n",
    "    /user/cloudera/hw_part_1/spark/task_1/output/part-* \\\n",
    "    /home/cloudera/Desktop/data_samples/avg_rating.csv\n",
    "\n",
    "head /home/cloudera/Desktop/data_samples/avg_rating.csv -n 10"
   ]
  },
  {
   "cell_type": "raw",
   "metadata": {},
   "source": [
    "B00ARSNT7Q,4.29411764706\n",
    "B001UHMVC2,4.55555555556\n",
    "B001WMFXJ8,4.5\n",
    "B002YNY8GI,4.46511627907\n",
    "B008JH59FC,4.22222222222\n",
    "B00C5R8A6W,4.66666666667\n",
    "B002UTBD7S,3.57142857143\n",
    "B0083E7X64,2.83333333333\n",
    "B0009J1I26,3.66666666667\n",
    "B00C7XH7PE,4.71428571429"
   ]
  },
  {
   "cell_type": "markdown",
   "metadata": {},
   "source": [
    "## Задача 2. Добавление наименования продукта\n",
    "```\n",
    "Напишите программу, которая каждому ProdId из \"avg_rating.csv\" ставит в соответстие названием продукта.\n",
    "Результат сохранить в HDFS в файле \"prodname_avg_rating.csv\": ProdId,Name,Rating\n",
    "```"
   ]
  },
  {
   "cell_type": "raw",
   "metadata": {},
   "source": [
    "hdfs dfs -rm -r -f -skipTrash /user/cloudera/hw_part_1/spark/task_2\n",
    "hdfs dfs -mkdir -p /user/cloudera/hw_part_1/spark/task_2/data\n",
    "\n",
    "hdfs dfs -copyFromLocal /home/cloudera/Desktop/data_samples/avg_rating.csv \\\n",
    "                        /user/cloudera/hw_part_1/spark/task_2/data/avg_rating.csv\n",
    "\n",
    "hdfs dfs -copyFromLocal /home/cloudera/Desktop/data_samples/samples_100_meta.json \\\n",
    "                        /user/cloudera/hw_part_1/spark/task_2/data/samples_100_meta.json\n",
    "\n",
    "# hdfs dfs -copyFromLocal /home/cloudera/Desktop/data_samples/Electronics_meta.json \\\n",
    "#                         /user/cloudera/hw_part_1/spark/task_2/data/Electronics_meta.json\n",
    "\n",
    "hdfs dfs -ls -R /user/cloudera/hw_part_1/spark/task_2/"
   ]
  },
  {
   "cell_type": "code",
   "execution_count": 11,
   "metadata": {},
   "outputs": [],
   "source": [
    "rdd_products = sc.textFile('/user/cloudera/hw_part_1/spark/task_2/data/avg_rating.csv')\n",
    "#rdd_products_meta = sc.textFile('/user/cloudera/hw_part_1/spark/task_2/data/samples_100_meta.json')\n",
    "rdd_products_meta = sc.textFile('/user/cloudera/hw_part_1/spark/task_2/data/Electronics_meta.json')"
   ]
  },
  {
   "cell_type": "code",
   "execution_count": 29,
   "metadata": {},
   "outputs": [
    {
     "data": {
      "text/plain": [
       "[['B00ARSNT7Q', '4.29411764706'],\n",
       " ['B001UHMVC2', '4.55555555556'],\n",
       " ['B001WMFXJ8', '4.5'],\n",
       " ['B002YNY8GI', '4.46511627907'],\n",
       " ['B008JH59FC', '4.22222222222']]"
      ]
     },
     "execution_count": 29,
     "metadata": {},
     "output_type": "execute_result"
    }
   ],
   "source": [
    "rdd_product_avg_rating = rdd_products.map(lambda csv_line: csv_line.split(','))\n",
    "rdd_product_avg_rating.persist()\n",
    "rdd_product_avg_rating.take(5)"
   ]
  },
  {
   "cell_type": "code",
   "execution_count": 30,
   "metadata": {},
   "outputs": [
    {
     "data": {
      "text/plain": [
       "[('0132793040',\n",
       "  'Kelby Training DVD: Mastering Blend Modes in Adobe Photoshop CS5 By Corey Barker'),\n",
       " ('0321732944',\n",
       "  'Kelby Training DVD: Adobe Photoshop CS5 Crash Course By Matt Kloskowski'),\n",
       " ('0439886341', 'Digital Organizer and Messenger'),\n",
       " ('0511189877', 'CLIKR-5 Time Warner Cable Remote Control UR5U-8780L'),\n",
       " ('0528881469',\n",
       "  'Rand McNally 528881469 7-inch Intelliroute TND 700 Truck GPS')]"
      ]
     },
     "execution_count": 30,
     "metadata": {},
     "output_type": "execute_result"
    }
   ],
   "source": [
    "import ast\n",
    "import json\n",
    "\n",
    "def get_product_name(product_json):\n",
    "    # Hack for \"JSONDecodeError: Expecting property name enclosed in double quotes\"\n",
    "    product = ast.literal_eval(product_json)\n",
    "    return (product.get('asin'), product.get('title'))\n",
    "\n",
    "rdd_product_name = (\n",
    "    rdd_products_meta\n",
    "        .map(lambda product_json: get_product_name(product_json))\n",
    "        .filter(lambda product_data: all(product_data))\n",
    ")\n",
    "rdd_product_name.persist()\n",
    "rdd_product_name.take(5)"
   ]
  },
  {
   "cell_type": "code",
   "execution_count": 37,
   "metadata": {},
   "outputs": [
    {
     "name": "stdout",
     "output_type": "stream",
     "text": [
      "['B008JH59FC,4.22222222222,Logitech 910-002951 M325 Wireless Mouse - Coral Fan', 'B00C5R8A6W,4.66666666667,\"Leef Spark USB 2.0 32GB High-speed USB Flash Drive with Magnet Cap, LED, and PrimeGrade Memory (Black)\"', 'B0083E7X64,2.83333333333,\"HHI Anti-Fingerprint, Anti-Glare, Matte Finished Screen Protector for Toshiba Excite 10 (Package include a HandHelditems Sketch Stylus Pen)\"', 'B003OBUJGW,3.66666666667,Sony ECMSST1 Compact Stereo Microphone for NEX-3/NEX-5 Camera', 'B004LPW2LA,3.71428571429,SANOXY&reg; high speed Mini USB Wireless Lan Adaptor 802.11n']\n"
     ]
    }
   ],
   "source": [
    "rdd_product_name_rating = rdd_product_avg_rating.join(rdd_product_name)\n",
    "# print(rdd_product_name_rating.take(5))\n",
    "# [('B008JH59FC', ('4.22222222222', 'Logitech 910-002951 M325 Wireless Mouse - Coral Fan')),]\n",
    "\n",
    "def to_csv_line(data):\n",
    "    delimiter = ','\n",
    "    fields = []\n",
    "    for item in data:\n",
    "        field = str(item)\n",
    "        if delimiter in field:\n",
    "            field = '\"{0}\"'.format(field)\n",
    "        fields.append(field)\n",
    "    return delimiter.join(fields)\n",
    "\n",
    "print((\n",
    "    rdd_product_name_rating\n",
    "        .map(lambda id__rating_name: (id__rating_name[0], id__rating_name[1][1], id__rating_name[1][0]))\n",
    "        .map(to_csv_line)\n",
    "        .take(5)\n",
    "))\n"
   ]
  },
  {
   "cell_type": "markdown",
   "metadata": {},
   "source": [
    "```python\n",
    "# product_name_rating.py\n",
    "import ast\n",
    "import json\n",
    "import sys\n",
    "from pyspark import SparkContext, SparkConf\n",
    "\n",
    "conf = SparkConf().setAppName('ProductNameRating')\n",
    "sc = SparkContext(conf=conf)\n",
    "\n",
    "rdd_products = sc.textFile(sys.argv[1])\n",
    "rdd_products_meta = sc.textFile(sys.argv[2])\n",
    "\n",
    "rdd_product_avg_rating = rdd_products.map(lambda csv_line: csv_line.split(','))\n",
    "rdd_product_avg_rating.persist()\n",
    "\n",
    "def get_product_name(product_json):\n",
    "    # Hack for \"JSONDecodeError: Expecting property name enclosed in double quotes\"\n",
    "    product = ast.literal_eval(product_json)\n",
    "    return (product.get('asin'), product.get('title'))\n",
    "\n",
    "rdd_product_name = (\n",
    "    rdd_products_meta\n",
    "        .map(lambda product_json: get_product_name(product_json))\n",
    "        .filter(lambda product_data: all(product_data))\n",
    ")\n",
    "rdd_product_name.persist()\n",
    "\n",
    "def to_csv_line(data):\n",
    "    delimiter = ','\n",
    "    fields = []\n",
    "    for item in data:\n",
    "        field = str(item)\n",
    "        if delimiter in field:\n",
    "            field = '\"{0}\"'.format(field)\n",
    "        fields.append(field)\n",
    "    return delimiter.join(fields)\n",
    "\n",
    "rdd_product_name_rating = rdd_product_avg_rating.join(rdd_product_name)\n",
    "(\n",
    "    rdd_product_name_rating\n",
    "        .map(lambda id__rating_name: (id__rating_name[0], id__rating_name[1][1], id__rating_name[1][0]))\n",
    "        .map(to_csv_line)\n",
    "        .saveAsTextFile(sys.argv[3])\n",
    ")\n",
    "```"
   ]
  },
  {
   "cell_type": "raw",
   "metadata": {},
   "source": [
    "hdfs dfs -rm -r -f -skipTrash /user/cloudera/hw_part_1/spark/task_2/output\n",
    "\n",
    "spark2-submit --master yarn product_name_rating.py  \\\n",
    "    hdfs:///user/cloudera/hw_part_1/spark/task_2/data/avg_rating.csv \\\n",
    "    hdfs:///user/cloudera/hw_part_1/spark/task_2/data/samples_100_meta.json \\\n",
    "    hdfs:///user/cloudera/hw_part_1/spark/task_2/output\n",
    "\n",
    "#spark2-submit --master yarn product_name_rating.py  \\\n",
    "#    hdfs:///user/cloudera/hw_part_1/spark/task_2/data/avg_rating.csv \\\n",
    "#    hdfs:///user/cloudera/hw_part_1/spark/task_2/data/Electronics_meta.json \\\n",
    "#    hdfs:///user/cloudera/hw_part_1/spark/task_2/output\n",
    "\n",
    "hdfs dfs -ls -R /user/cloudera/hw_part_1/spark/task_2/output\n",
    "\n",
    "hadoop fs -getmerge \\\n",
    "    /user/cloudera/hw_part_1/spark/task_2/output/part-* \\\n",
    "    /home/cloudera/Desktop/data_samples/prodname_avg_rating.csv\n",
    "\n",
    "head /home/cloudera/Desktop/data_samples/prodname_avg_rating.csv -n 10"
   ]
  },
  {
   "cell_type": "raw",
   "metadata": {},
   "source": [
    "B001CNR39U,OCZ OCZ3M10664GK PC3-8500 DDR3 1066MHz SODIMM 4 GB Dual Channel Kit,4.2\n",
    "B00419SI1E,\"Laptop Notebook 15-Inch 15.6-Inch Skin Sticker Cover Art Decal Fits Laptop Size of 13-Inch,13.3-Inch,14-Inch,15-Inch,15.6-Inch,16-Inch HP Dell Lenovo Asus Compaq Asus Acer Computers\",4.0\n",
    "B002AKHHHM,Discovery Expedition Entertainment Projector,2.5\n",
    "B0044D3R7M,\"Infinity Primus P143 Two-way 4-Inch Bookshelf/Satellite Speaker (Black, Each)\",4.875\n",
    "B000687QW6,Kenwood KFC-415C 160-Watt 4-Inch x 10-Inch Two-Way Speaker System,4.625\n",
    "B0081HD3PI,On Networks N150 WiFi Router (N150R),3.69230769231\n",
    "B003MAZY6A,Your Cable Store Black 15 Foot USB 2.0 High Speed Male A To Male A Cable,4.68\n",
    "B0013T2T6U,Cell Phone/PDA Traveler's Adapter with USB,3.85714285714\n",
    "B0018O0ZTS,Manfrotto 030- 14 Replacement Hexagonal Quick Release Plate with 1/4- 20 Thread,4.83333333333\n",
    "B000RXYV5U,IronKey 4 GB Secure Hardware-Encrypted USB 2.0 Flash Drive D20402A,4.5"
   ]
  },
  {
   "cell_type": "markdown",
   "metadata": {},
   "source": [
    "## Задача 3. Поиск среднего рейтинга по названию продукта\n",
    "```\n",
    "Напишите программу, которая выводит средний рейтинги всех продуктов из \"prodname_avg_rating.csv\",\n",
    "в названии которых встречается введенное при запуске слово: ProdId,Name,Rating\n",
    "```"
   ]
  },
  {
   "cell_type": "raw",
   "metadata": {},
   "source": [
    "hdfs dfs -rm -r -f -skipTrash /user/cloudera/hw_part_1/spark/task_3\n",
    "hdfs dfs -mkdir -p /user/cloudera/hw_part_1/spark/task_3/data\n",
    "\n",
    "hdfs dfs -copyFromLocal /home/cloudera/Desktop/data_samples/prodname_avg_rating.csv \\\n",
    "                        /user/cloudera/hw_part_1/spark/task_3/data/prodname_avg_rating.csv\n",
    "\n",
    "hdfs dfs -ls -R /user/cloudera/hw_part_1/spark/task_3"
   ]
  },
  {
   "cell_type": "code",
   "execution_count": 2,
   "metadata": {},
   "outputs": [
    {
     "data": {
      "text/plain": [
       "/user/cloudera/hw_part_1/spark/task_3/data/prodname_avg_rating.csv MapPartitionsRDD[3] at textFile at NativeMethodAccessorImpl.java:0"
      ]
     },
     "execution_count": 2,
     "metadata": {},
     "output_type": "execute_result"
    }
   ],
   "source": [
    "rdd_products = sc.textFile('/user/cloudera/hw_part_1/spark/task_3/data/prodname_avg_rating.csv')\n",
    "rdd_products.persist()"
   ]
  },
  {
   "cell_type": "code",
   "execution_count": 5,
   "metadata": {},
   "outputs": [
    {
     "data": {
      "text/plain": [
       "['B00C2L6MAW,GMYLE(TM) Light Blue PU Leather Slim Folio Magnetic Flip Stand Case Cover with Wake Up Sleep Function for Barnes &amp; Noble Nook HD+ Plus 9 &quot; inches Tablet,4.71428571429',\n",
       " 'B007EWTZ8U,\"Devicewear Dante 360 Degree Rotating Case for Nook Tablet/Nook Color, Pink (DAN-NT-PNK)\",4.5',\n",
       " 'B00CPV9YOU,GMYLE(R) Black 360 Degree Rotating PU leather Folio Stand Case Cover for Nook HD+ Plus 9 inches Barnes &amp; Noble e-book Reader Tablet (Multi Angle- Vertical / Horizontal and Wake up Sleep Function),4.23333333333',\n",
       " 'B004GIKP1G,rooCASE (Black) Leather Case Cover with 22 Angle Adjustable Stand for Barnes and Noble NOOK Tablet / NOOKcolor Nook Color eBook Reader - MV Series (NOT Compatible with NOOK HD),4.35849056604',\n",
       " 'B00AAVEUCS,\"MoKo(TM) 360 Degree Rotating Cover Case for Barnes &amp; Noble Nook Full HD 7&quot; Inch tablet, Black (with Vertical and Horizontal Stand, and Smart Cover Auto Sleep/Wake Function)--Lifetime Warranty\",4.5']"
      ]
     },
     "execution_count": 5,
     "metadata": {},
     "output_type": "execute_result"
    }
   ],
   "source": [
    "filter_word = 'Nook'\n",
    "\n",
    "def filter_by_title(title):\n",
    "    return filter_word.lower() in title.lower()\n",
    "\n",
    "(\n",
    "    rdd_products\n",
    "        .filter(lambda id_title_rating_csv_line: filter_by_title(id_title_rating_csv_line.split(',')[1]))\n",
    "        .take(5)\n",
    ")"
   ]
  },
  {
   "cell_type": "markdown",
   "metadata": {},
   "source": [
    "```python\n",
    "# product_filtered.py\n",
    "import sys\n",
    "from pyspark import SparkContext, SparkConf\n",
    "\n",
    "conf = SparkConf().setAppName('ProductFiltered')\n",
    "sc = SparkContext(conf=conf)\n",
    "\n",
    "rdd_products = sc.textFile(sys.argv[1])\n",
    "rdd_products.persist()\n",
    "\n",
    "filter_word = sys.argv[3]\n",
    "\n",
    "def filter_by_title(title):\n",
    "    return filter_word.lower() in title.lower()\n",
    "\n",
    "(\n",
    "    rdd_products\n",
    "        .filter(lambda id_title_rating_csv_line: filter_by_title(id_title_rating_csv_line.split(',')[1]))\n",
    "        .saveAsTextFile(sys.argv[2])\n",
    ")\n",
    "```"
   ]
  },
  {
   "cell_type": "raw",
   "metadata": {},
   "source": [
    "hdfs dfs -rm -r -f -skipTrash /user/cloudera/hw_part_1/spark/task_3/output\n",
    "\n",
    "spark2-submit --master yarn product_filtered.py \\\n",
    "    hdfs:///user/cloudera/hw_part_1/spark/task_3/data/prodname_avg_rating.csv \\\n",
    "    hdfs:///user/cloudera/hw_part_1/spark/task_3/output \\\n",
    "    Nook\n",
    "\n",
    "hdfs dfs -ls -R /user/cloudera/hw_part_1/spark/task_3/output\n",
    "\n",
    "hadoop fs -getmerge \\\n",
    "    /user/cloudera/hw_part_1/spark/task_3/output/part-* \\\n",
    "    /home/cloudera/Desktop/data_samples/prodname_avg_rating_filtered.csv\n",
    "\n",
    "head /home/cloudera/Desktop/data_samples/prodname_avg_rating_filtered.csv -n 10"
   ]
  },
  {
   "cell_type": "raw",
   "metadata": {},
   "source": [
    "B00C2L6MAW,GMYLE(TM) Light Blue PU Leather Slim Folio Magnetic Flip Stand Case Cover with Wake Up Sleep Function for Barnes &amp; Noble Nook HD+ Plus 9 &quot; inches Tablet,4.71428571429\n",
    "B007EWTZ8U,\"Devicewear Dante 360 Degree Rotating Case for Nook Tablet/Nook Color, Pink (DAN-NT-PNK)\",4.5\n",
    "B00CPV9YOU,GMYLE(R) Black 360 Degree Rotating PU leather Folio Stand Case Cover for Nook HD+ Plus 9 inches Barnes &amp; Noble e-book Reader Tablet (Multi Angle- Vertical / Horizontal and Wake up Sleep Function),4.23333333333\n",
    "B004GIKP1G,rooCASE (Black) Leather Case Cover with 22 Angle Adjustable Stand for Barnes and Noble NOOK Tablet / NOOKcolor Nook Color eBook Reader - MV Series (NOT Compatible with NOOK HD),4.35849056604\n",
    "B00AAVEUCS,\"MoKo(TM) 360 Degree Rotating Cover Case for Barnes &amp; Noble Nook Full HD 7&quot; Inch tablet, Black (with Vertical and Horizontal Stand, and Smart Cover Auto Sleep/Wake Function)--Lifetime Warranty\",4.5\n",
    "B005CXIR46,JAVOedge Cherry Blossom Book Case for the Barnes &amp; Noble Nook Simple Touch Reader / with GlowLight (Twilight Purple) - Latest Generation,5.0\n",
    "B007WDXIJI,i-BLASON Barnes &amp; Noble Nook Simple Touch and Simple Touch with GlowLight Premium Leather Cover Case with Multi-Angle Stand Handsfree (5 Colors Available) Black,4.8\n",
    "B007YDAARE,Image&reg; Full Screen Touchable PU Leather Cover Case for Barnes and Noble Nook Tablet Nook Color with Stand Purple,4.6\n",
    "B00884BPUE,\"Barnes &amp; Noble NOOK Simple Touch with GlowLight, Wi-Fi, 2GB, Includes Power Adapter\",3.81818181818\n",
    "B00AFY4U7K,GreatShield Ultra Smooth Clear Screen Protector Film for Barnes &amp; Noble NOOK HD 7&quot; Tablet (3 Pack),4.6"
   ]
  },
  {
   "cell_type": "markdown",
   "metadata": {},
   "source": [
    "### Пример diff'а между map_reduce и spark результатами\n",
    "```\n",
    "< B00B20N9GO,Poetic Slimline Portfolio Case for Barnes &amp; Noble Nook Full HD 7&quot; Inch Tablet Black (3 Year Manufacturer Warranty From Poetic),4.027027027027027\n",
    "< B00B25I8DS,AC Adapter Charger Power Cord for Nook Color Tablet ONLY!,4.111111111111111\n",
    "---\n",
    "> B00B20N9GO,Poetic Slimline Portfolio Case for Barnes &amp; Noble Nook Full HD 7&quot; Inch Tablet Black (3 Year Manufacturer Warranty From Poetic),4.02702702703\n",
    "> B00B25I8DS,AC Adapter Charger Power Cord for Nook Color Tablet ONLY!,4.11111111111\n",
    "```"
   ]
  }
 ],
 "metadata": {
  "kernelspec": {
   "display_name": "Python 3",
   "language": "python",
   "name": "python3"
  },
  "language_info": {
   "codemirror_mode": {
    "name": "ipython",
    "version": 3
   },
   "file_extension": ".py",
   "mimetype": "text/x-python",
   "name": "python",
   "nbconvert_exporter": "python",
   "pygments_lexer": "ipython3",
   "version": "3.6.3"
  }
 },
 "nbformat": 4,
 "nbformat_minor": 2
}
