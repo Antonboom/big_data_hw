{
 "cells": [
  {
   "cell_type": "markdown",
   "metadata": {},
   "source": [
    "## Задача 2. Коллаборативная фильтрация (5 баллов)\n",
    "\n",
    "### Вариант 1. По схожести пользователей"
   ]
  },
  {
   "cell_type": "code",
   "execution_count": 1,
   "metadata": {},
   "outputs": [],
   "source": [
    "from pyspark import SparkContext\n",
    "from pyspark.sql import SQLContext\n",
    "\n",
    "sc = SparkContext.getOrCreate()\n",
    "sqlContext = SQLContext(sc)"
   ]
  },
  {
   "cell_type": "code",
   "execution_count": 2,
   "metadata": {},
   "outputs": [
    {
     "name": "stdout",
     "output_type": "stream",
     "text": [
      "+------+-------+------+---------+\n",
      "|userId|movieId|rating|timestamp|\n",
      "+------+-------+------+---------+\n",
      "|     1|      1|   4.0|964982703|\n",
      "|     1|      3|   4.0|964981247|\n",
      "|     1|      6|   4.0|964982224|\n",
      "|     1|     47|   5.0|964983815|\n",
      "|     1|     50|   5.0|964982931|\n",
      "+------+-------+------+---------+\n",
      "only showing top 5 rows\n",
      "\n"
     ]
    }
   ],
   "source": [
    "ratings_df = sqlContext.read.load(\n",
    "    'file:///home/cloudera/Desktop/ml_data/ml_latest_small/ratings.csv',\n",
    "    format='csv',\n",
    "    header='true',\n",
    "    inferSchema='true',\n",
    "    sep=','\n",
    ")\n",
    "ratings_df.persist()\n",
    "ratings_df.show(5)"
   ]
  },
  {
   "cell_type": "markdown",
   "metadata": {},
   "source": [
    "Разделите данные с рейтингами на обучающее (train - 0.8) и тестовое подмножества (test - 0.2)."
   ]
  },
  {
   "cell_type": "code",
   "execution_count": 7,
   "metadata": {},
   "outputs": [
    {
     "data": {
      "text/plain": [
       "(80838, 19998)"
      ]
     },
     "execution_count": 7,
     "metadata": {},
     "output_type": "execute_result"
    }
   ],
   "source": [
    "df_train, df_test = ratings_df.randomSplit((0.8, 0.2), seed=123)\n",
    "df_train.persist(), df_test.persist()\n",
    "df_train.count(), df_test.count()"
   ]
  },
  {
   "cell_type": "markdown",
   "metadata": {},
   "source": [
    "Oпределите среднее значение рейтинга в обучающем подмножестве."
   ]
  },
  {
   "cell_type": "code",
   "execution_count": 8,
   "metadata": {},
   "outputs": [
    {
     "data": {
      "text/plain": [
       "3.4985155496177542"
      ]
     },
     "execution_count": 8,
     "metadata": {},
     "output_type": "execute_result"
    }
   ],
   "source": [
    "from pyspark.sql import functions as F\n",
    "\n",
    "mean_movie_rating = df_train.select(F.mean('rating').alias('avg')).collect()[0]['avg']\n",
    "mean_movie_rating"
   ]
  },
  {
   "cell_type": "markdown",
   "metadata": {},
   "source": [
    "Bычислите RMSE для тестового подмножества, если для всех значений из test предсказывается среднее значение рейтинга."
   ]
  },
  {
   "cell_type": "code",
   "execution_count": 11,
   "metadata": {},
   "outputs": [
    {
     "name": "stdout",
     "output_type": "stream",
     "text": [
      "+------+-------+------+---------+------------------+\n",
      "|userId|movieId|rating|timestamp|        prediction|\n",
      "+------+-------+------+---------+------------------+\n",
      "|     1|      3|   4.0|964981247|3.4985155496177542|\n",
      "|     1|      6|   4.0|964982224|3.4985155496177542|\n",
      "|     1|     47|   5.0|964983815|3.4985155496177542|\n",
      "|     1|    151|   5.0|964984041|3.4985155496177542|\n",
      "|     1|    163|   5.0|964983650|3.4985155496177542|\n",
      "+------+-------+------+---------+------------------+\n",
      "only showing top 5 rows\n",
      "\n"
     ]
    },
    {
     "data": {
      "text/plain": [
       "1.0425819010275184"
      ]
     },
     "execution_count": 11,
     "metadata": {},
     "output_type": "execute_result"
    }
   ],
   "source": [
    "from pyspark.ml.evaluation import RegressionEvaluator\n",
    "\n",
    "df_test_with_prediction = df_test.withColumn('prediction', F.lit(mean_movie_rating))\n",
    "df_test_with_prediction.show(5)\n",
    "\n",
    "rmse_evaluator = RegressionEvaluator(metricName='rmse', labelCol='rating', predictionCol='prediction')\n",
    "rmse_evaluator.evaluate(df_test_with_prediction)"
   ]
  },
  {
   "cell_type": "markdown",
   "metadata": {},
   "source": [
    "Реализуйте коллаборативную фильтрацию в соотвествии с вариантом.\n",
    "\n",
    "Для определения схожести используйте train, для расчета RMSE - test."
   ]
  },
  {
   "cell_type": "code",
   "execution_count": 15,
   "metadata": {},
   "outputs": [
    {
     "data": {
      "text/plain": [
       "1.0745717128399692"
      ]
     },
     "execution_count": 15,
     "metadata": {},
     "output_type": "execute_result"
    }
   ],
   "source": [
    "from pyspark.ml.recommendation import ALS\n",
    "\n",
    "als = ALS(\n",
    "    maxIter=5,\n",
    "    regParam=0.01,\n",
    "    userCol='userId',\n",
    "    itemCol='movieId',\n",
    "    ratingCol='rating',\n",
    "    coldStartStrategy='drop',\n",
    ")\n",
    "model = als.fit(df_train)\n",
    "\n",
    "predictions = model.transform(df_test)\n",
    "rmse = rmse_evaluator.evaluate(predictions)\n",
    "rmse"
   ]
  },
  {
   "cell_type": "code",
   "execution_count": 18,
   "metadata": {},
   "outputs": [
    {
     "name": "stdout",
     "output_type": "stream",
     "text": [
      "+------+--------------------+\n",
      "|userId|     recommendations|\n",
      "+------+--------------------+\n",
      "|   471|[[799, 9.970222],...|\n",
      "|   463|[[2937, 6.0137625...|\n",
      "|   496|[[8638, 7.4388356...|\n",
      "|   148|[[158872, 7.52323...|\n",
      "|   540|[[158872, 7.45393...|\n",
      "+------+--------------------+\n",
      "only showing top 5 rows\n",
      "\n"
     ]
    }
   ],
   "source": [
    "model.recommendForAllUsers(5).show(5)"
   ]
  },
  {
   "cell_type": "markdown",
   "metadata": {},
   "source": [
    "## Задача 3. Факторизация матрицы (3 балла)\n",
    "Выберите модель ALS по минимальному значению RMSE. Для этого используйте kfolds c k=4.\n",
    "\n",
    "Если какие-то элементы из тестового/валидационного подмножества не встречались в обучающем, то RMSE будет NaN.\n",
    "\n",
    "Поэтому заранее уберите из тестового/валидационного подмножества такие элементы."
   ]
  },
  {
   "cell_type": "code",
   "execution_count": 21,
   "metadata": {},
   "outputs": [
    {
     "data": {
      "text/plain": [
       "0.8838615498556199"
      ]
     },
     "execution_count": 21,
     "metadata": {},
     "output_type": "execute_result"
    }
   ],
   "source": [
    "from pyspark.ml.tuning import CrossValidator, ParamGridBuilder\n",
    "\n",
    "# Параметры\n",
    "ranks = (5, 10, 15)  # Kоличество факторов\n",
    "regParams = (0.001, 0.01, 0.1, 1, 10)  # Pегуляризация\n",
    "kfolds = 4\n",
    "\n",
    "als = ALS(\n",
    "    seed=123,\n",
    "    maxIter=10,\n",
    "    numUserBlocks=10,\n",
    "    numItemBlocks=10,\n",
    "    userCol='userId',\n",
    "    itemCol='movieId',\n",
    "    ratingCol='rating',\n",
    "    coldStartStrategy='drop',\n",
    ")\n",
    "paramsGrid = (\n",
    "    ParamGridBuilder()\n",
    "        .addGrid(als.rank, ranks)\n",
    "        .addGrid(als.regParam, regParams)\n",
    "        .build()\n",
    ")\n",
    "cross_validator = CrossValidator(estimator=als,\n",
    "                                 estimatorParamMaps=paramsGrid,\n",
    "                                 evaluator=rmse_evaluator,\n",
    "                                 numFolds=kfolds)\n",
    "\n",
    "cv_model = cross_validator.fit(df_train)\n",
    "predictions = cv_model.transform(df_test)\n",
    "\n",
    "rmse = rmse_evaluator.evaluate(predictions)\n",
    "rmse"
   ]
  },
  {
   "cell_type": "markdown",
   "metadata": {},
   "source": [
    "Сравните результаты рекомендаций посредством коллаборативной фильтрации и факторизации матрицы рейтингов."
   ]
  },
  {
   "cell_type": "code",
   "execution_count": 24,
   "metadata": {},
   "outputs": [
    {
     "name": "stdout",
     "output_type": "stream",
     "text": [
      "+------+--------------------+\n",
      "|userId|     recommendations|\n",
      "+------+--------------------+\n",
      "|   471|[[33649, 4.576529...|\n",
      "|   463|[[5466, 5.0053124...|\n",
      "|   496|[[170705, 4.63225...|\n",
      "|   148|[[33649, 4.688705...|\n",
      "|   540|[[33649, 5.285536...|\n",
      "+------+--------------------+\n",
      "only showing top 5 rows\n",
      "\n"
     ]
    }
   ],
   "source": [
    "cv_model.bestModel.recommendForAllUsers(5).show(5)"
   ]
  }
 ],
 "metadata": {
  "kernelspec": {
   "display_name": "Python 3",
   "language": "python",
   "name": "python3"
  },
  "language_info": {
   "codemirror_mode": {
    "name": "ipython",
    "version": 3
   },
   "file_extension": ".py",
   "mimetype": "text/x-python",
   "name": "python",
   "nbconvert_exporter": "python",
   "pygments_lexer": "ipython3",
   "version": "3.6.3"
  }
 },
 "nbformat": 4,
 "nbformat_minor": 2
}
